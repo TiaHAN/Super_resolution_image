from osgeo import gdal

# 输入栅格文件路径和输出栅格文件路径
input_raster_path = 'E:\工作文件夹\2023\LAD_LG_20230509_20230511_RGB.tif'
output_raster_path = "E:\工作文件夹\2023\LAD_LG_20230509_20230511_RGB_resample.tif"

# 目标采样分辨率（单位：米）
target_resolution = 2

# 打开输入栅格文件
input_raster = gdal.Open(input_raster_path)

if input_raster is None:
    print("无法打开输入栅格文件")
else:
    # 获取输入栅格的信息
    input_geotransform = input_raster.GetGeoTransform()
    input_projection = input_raster.GetProjection()
    input_band = input_raster.GetRasterBand(1)
    
    # 计算输出栅格的大小
    input_width = input_band.XSize
    input_height = input_band.YSize
    output_width = int(input_width * input_geotransform[1] / target_resolution)
    output_height = int(input_height * -input_geotransform[5] / target_resolution)  # 考虑像素高度的负值
    
    # 创建输出栅格
    output_driver = gdal.GetDriverByName("GTiff")
    output_raster = output_driver.Create(output_raster_path, output_width, output_height, 1, input_band.DataType)
    output_raster.SetGeoTransform((
        input_geotransform[0],
        target_resolution,
        0,
        input_geotransform[3],
        0,
        -target_resolution  # 考虑像素高度的负值
    ))
    output_raster.SetProjection(input_projection)
    
    # 进行采样
    gdal.ReprojectImage(input_raster, output_raster, input_projection, input_projection, gdal.GRA_Bilinear)
    
    # 关闭栅格文件
    input_raster = None
    output_raster = None

print("采样完成")