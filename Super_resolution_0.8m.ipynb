{
 "cells": [
  {
   "cell_type": "code",
   "execution_count": 3,
   "metadata": {},
   "outputs": [
    {
     "name": "stdout",
     "output_type": "stream",
     "text": [
      "计算资源初始化中，请等待...\n",
      "计算资源初始化完成.\n"
     ]
    }
   ],
   "source": [
    "import time\n",
    "import os\n",
    "from Tea.exceptions import TeaException\n",
    "from alibabacloud_tea_openapi import models\n",
    "from alibabacloud_aiearth_engine20220609.models import *\n",
    "from alibabacloud_aiearth_engine20220609.client import Client\n",
    "import aie\n",
    "import requests\n",
    "aie.Authenticate(token='')\n",
    "aie.Initialize()\n",
    "from aiearth.openapi import build_client\n",
    "from aiearth.openapi.enums import *\n",
    "CLIENT = build_client('', 'v8D6acxCaAecL8grkwkpu1aZTMkgH3
  },
  {
   "cell_type": "code",
   "execution_count": 4,
   "metadata": {},
   "outputs": [
    {
     "name": "stdout",
     "output_type": "stream",
     "text": [
      "['2023-03-04T00:00:00.000Z', '2023-03-06T00:00:00.000Z', '2023-03-09T00:00:00.000Z', '2023-03-14T00:00:00.000Z', '2023-03-26T00:00:00.000Z', '2023-04-08T00:00:00.000Z', '2023-04-30T00:00:00.000Z', '2023-05-15T00:00:00.000Z', '2023-05-23T00:00:00.000Z', '2023-05-25T00:00:00.000Z', '2023-05-28T00:00:00.000Z', '2023-08-03T00:00:00.000Z', '2023-08-08T00:00:00.000Z']\n"
     ]
    }
   ],
   "source": [
    "region = aie.Geometry.Polygon(\n",
    "    [\n",
    "        [\n",
    "            [121.93826854879164, 30.970113616024253],\n",
    "            [121.92722368998854, 30.969653807534907],\n",
    "            [121.92926211306607, 30.964191528157762],\n",
    "            [121.9295732493118, 30.963142738459393],\n",
    "            [121.92982001254117, 30.96126592814542],\n",
    "            [121.92984147021329, 30.95840464144593],\n",
    "            [121.94244755425436, 30.958885338234488],\n",
    "            [121.95453596983721, 30.962624820837277],\n",
    "            [121.94630590848263, 30.981625659888707],\n",
    "            [121.93452564648922, 30.981202542714716]\n",
    "        ]\n",
    "    ]\n",
    ")\n",
    " \n",
    "singleFeature = aie.Feature(region, {'key': 'val'})\n",
    "ROI = aie.FeatureCollection(singleFeature)           \n",
    "s2 = aie.ImageCollection('SENTINEL_MSIL2A') \\\n",
    "             .filterBounds(ROI) \\\n",
    "             .filterDate('2023-03-01', '2023-08-30') \\\n",
    "             .filter('eo:cloud_cover<20')\\\n",
    "             # .select(['B4', 'B3', 'B2'])\n",
    "# print(s2.first().propertyNames().getInfo())\n",
    "\n",
    "def getID(image):\n",
    "    return aie.Feature(None).set({'id': image.id()})\n",
    "# 获取id序列，list\n",
    "ids = s2.map(getID)\n",
    "data_id_list = ids.aggregate_array('id').getInfo()\n",
    "print(data_id_list)\n",
    "\n",
    "\n",
    "# # 定义下载函数\n",
    "# def export_image(image, roi, file_name):\n",
    "#     task =  aie.Export.image.toAsset(image, 'LG_'+ date, scale=10)\n",
    "#     task.start()\n",
    "\n",
    "\n",
    "# 循环在s2中，filter Date = list[i], first() mean() \n",
    "name_list = []  # 用于存储每个任务的 description\n",
    "for ID in data_id_list:\n",
    "    # 过滤图像集合以获取特定索引的图像\n",
    "    image = s2.filter(aie.Filter.eq(\"id\", ID)).mean().clip(region)\n",
    "    task_name = 'LG_' + ID\n",
    "    # export_image(image, region, date)\n",
    "    name_list.append(task_name)\n",
    "print(name_list)  \n",
    "    "
   ]
  },
  {
   "cell_type": "code",
   "execution_count": 7,
   "metadata": {},
   "outputs": [],
   "source": [
    "def sync_create_job(data_id: str) -> (JobStatus, str):\n",
    "    createAiJobReq: CreateAIJobRequest = CreateAIJobRequest()\n",
    "    createAiJobReq.job_name = job_name\n",
    "    createAiJobReqInputSrc = CreateAIJobRequestInputsSrc()\n",
    "    createAiJobReqInputSrc.data_id = data_id\n",
    "    createAiJobReqInput = CreateAIJobRequestInputs()\n",
    "    createAiJobReqInput.src = createAiJobReqInputSrc\n",
    "    createAiJobReqInput.idx = 1\n",
    "    createAiJobReq.inputs = [createAiJobReqInput]\n",
    "    createAiJobReq.app = 'S2_SUPER_RESOLUTION'\n",
    "    createAiJobReq.shape_data_id ='7a9afac4038bdd4b9120b21a5d5c3652'\n",
    "    createAiJobReq.confidence = 40\n",
    "    createAiJobReq.area_threshold = 1\n",
    "\n",
    "    createAiJobResp: CreateAIJobResponse = CLIENT.create_aijob(createAiJobReq)\n",
    "    job_id = createAiJobResp.body.jobs[0].job_id\n",
    "\n",
    "    while True:\n",
    "        get_job_req: GetJobsRequest = GetJobsRequest()\n",
    "        get_job_req.job_ids = [job_id]\n",
    "\n",
    "        get_job_resp: GetJobsResponse = CLIENT.get_jobs(get_job_req)\n",
    "        job_status = JobStatus(get_job_resp.body.list[0].status)\n",
    "        print(f\"JobId: {job_id}, jobStatus: {job_status}\")\n",
    "        if job_status == JobStatus.FINISHED:\n",
    "            out_data_id = get_job_resp.body.list[0].job_out_data_id\n",
    "            out_data_type = JobOutDataType(get_job_resp.body.list[0].out_data_type)\n",
    "            break\n",
    "        elif job_status == JobStatus.ERROR:\n",
    "            raise ValueError(f\"{job_id} error\")\n",
    "        else:\n",
    "            time.sleep(500)\n",
    "            \n",
    "    return job_status, out_data_id\n"
   ]
  },
  {
   "cell_type": "code",
   "execution_count": 8,
   "metadata": {},
   "outputs": [
    {
     "name": "stdout",
     "output_type": "stream",
     "text": [
      "JobId: 143299, jobStatus: JobStatus.SUBMITTING\n"
     ]
    }
   ],
   "source": [
    "for index, data_id in enumerate(data_id_list):\n",
    "    # job_name = f'image{index + 1}'  # 生成不同的任务名称，如 image1、image2、image3\n",
    "    image = aie.Image('data_id')\n",
    "    job_name = f'Super_resolution_{data_id[10:19] }'\n",
    "    # job_name = f'LG_super_resolution_{name}'\n",
    "    job_status, out_data_id = sync_create_job(data_id)"
   ]
  }
 ],
 "metadata": {
  "kernelspec": {
   "display_name": "aiearth",
   "language": "python",
   "name": "python3"
  },
  "language_info": {
   "codemirror_mode": {
    "name": "ipython",
    "version": 3
   },
   "file_extension": ".py",
   "mimetype": "text/x-python",
   "name": "python",
   "nbconvert_exporter": "python",
   "pygments_lexer": "ipython3",
   "version": "3.10.12"
  },
  "orig_nbformat": 4
 },
 "nbformat": 4,
 "nbformat_minor": 2
}
